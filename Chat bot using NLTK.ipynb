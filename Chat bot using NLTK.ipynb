{
 "cells": [
  {
   "cell_type": "code",
   "execution_count": 1,
   "metadata": {},
   "outputs": [],
   "source": [
    "#Importing the necessary libraries\n",
    "##io module allows us to manage the file-related input and output operations, while the random module enables access\n",
    "## to functions that support many python operations, strings helps to process standard python strings.\n",
    "##The numpy library helps us in working with arrays.\n",
    "##The scikit-learn TfidfVectorizer helps convert a collection of raw documents to a matrix of TF-IDF(Term Frequency Inverse Document Frequency) features\n",
    "##it computes the word counts, IDF values, and Tf-idf scores all using the same dataset.\n",
    "##The scikit-learn cosine similarity helps to measure similarity between documents \n",
    "\n",
    "import io\n",
    "import random\n",
    "import string # to process standard python strings\n",
    "import numpy as np\n",
    "from sklearn.feature_extraction.text import TfidfVectorizer\n",
    "from sklearn.metrics.pairwise import cosine_similarity\n",
    "import warnings\n",
    "warnings.filterwarnings('ignore')"
   ]
  },
  {
   "cell_type": "code",
   "execution_count": 2,
   "metadata": {},
   "outputs": [
    {
     "data": {
      "text/plain": [
       "True"
      ]
     },
     "execution_count": 2,
     "metadata": {},
     "output_type": "execute_result"
    }
   ],
   "source": [
    "##The NLTK helps to work with human language data\n",
    "##Wordnet is an large, freely and publicly available lexical database for the English language aiming,\n",
    "##This is to establish structured semantic relationships between words.\n",
    "\n",
    "import nltk\n",
    "from nltk.stem import WordNetLemmatizer\n",
    "nltk.download('popular', quiet=True)"
   ]
  },
  {
   "cell_type": "code",
   "execution_count": 3,
   "metadata": {},
   "outputs": [],
   "source": [
    "#This is the text file containing the collection of words relating to the ideas behind machine learning models \n",
    "##And some key algorithms used for each\n",
    "##The raw represents unmodified data\n",
    "###The raw lower converts to lower case\n",
    "\n",
    "ML_model=open('C:/Users/USER/Documents/List.txt','r',errors = 'ignore')\n",
    "raw=ML_model.read()\n",
    "raw = raw.lower()"
   ]
  },
  {
   "cell_type": "code",
   "execution_count": 4,
   "metadata": {},
   "outputs": [],
   "source": [
    "#Data Cleaning and Pre-processing\n",
    "\n",
    "##Tokenization is used to describe the process of converting the normal text strings into a list of tokens\n",
    "##Lemmatization is the process of obtaining the actual words\n",
    "##The sent token helps convert to list of sentences\n",
    "### The word token helps convert to list of words\n",
    "\n",
    "sent_tokens = nltk.sent_tokenize(raw) \n",
    "word_tokens = nltk.word_tokenize(raw)"
   ]
  },
  {
   "cell_type": "code",
   "execution_count": 5,
   "metadata": {},
   "outputs": [],
   "source": [
    "#We then define a function(LemTokens) which will input the tokens and return normalized tokens.\n",
    "\n",
    "lemmer = nltk.stem.WordNetLemmatizer()\n",
    "\n",
    "def LemTokens(tokens):\n",
    "    return [lemmer.lemmatize(token) for token in tokens]\n",
    "remove_punct_dict = dict((ord(punct), None) for punct in string.punctuation)\n",
    "\n",
    "def LemNormalize(text):\n",
    "    return LemTokens(nltk.word_tokenize(text.lower().translate(remove_punct_dict)))"
   ]
  },
  {
   "cell_type": "code",
   "execution_count": 6,
   "metadata": {},
   "outputs": [],
   "source": [
    "##The Keywords are then matched, defining a function which aids greetings  \n",
    "\n",
    "Inputs = (\"hello\", \"hi\", \"greetings\", \"How far\", \"what's up\",\"hey\",)\n",
    "Responses = [\"hi\", \"hey\", \"*wave*\", \"I am great! How can I help you\", \"hello\", \"I am glad! You are talking to me\"]\n",
    "def greeting(sentence):\n",
    " \n",
    "    for word in sentence.split():\n",
    "        if word.lower() in Inputs:\n",
    "            return random.choice(Responses)"
   ]
  },
  {
   "cell_type": "code",
   "execution_count": 7,
   "metadata": {},
   "outputs": [],
   "source": [
    "#Define a function that searches for words from the ML_model groups\n",
    "\n",
    "def response(user_response):\n",
    "    Alexia_response=''\n",
    "    sent_tokens.append(user_response)\n",
    "    TfidfVec = TfidfVectorizer(tokenizer=LemNormalize, stop_words='english')\n",
    "    tfidf = TfidfVec.fit_transform(sent_tokens)\n",
    "    vals = cosine_similarity(tfidf[-1], tfidf)\n",
    "    idx=vals.argsort()[0][-2]\n",
    "    flat = vals.flatten()\n",
    "    flat.sort()\n",
    "    req_tfidf = flat[-2]\n",
    "    if(req_tfidf==0):\n",
    "        Alexia_response=Alexia_response+\"I am sorry! I don't understand what you mean\"\n",
    "        return Alexia_response\n",
    "    else:\n",
    "        Alexia_response = Alexia_response+sent_tokens[idx]\n",
    "        return Alexia_response"
   ]
  },
  {
   "cell_type": "code",
   "execution_count": 8,
   "metadata": {},
   "outputs": [
    {
     "name": "stdout",
     "output_type": "stream",
     "text": [
      "Alexia: My name is Alexia. I will answer your queries about Machine learning models. If you want to exit, type Bye!\n",
      "hello\n",
      "Alexia: hello\n",
      "hey\n",
      "Alexia: I am glad! You are talking to me\n",
      "What is Supervised learning\n",
      "Alexia: supervised learning\n",
      "supervised learning is the simplest of the learning models to understand.\n",
      "What is Neural networks\n",
      "Alexia: you can learn more about neural networks and back-propagation in \"a neural networks deep dive.\"\n",
      "Q-learning\n",
      "Alexia: q-learning\n",
      "q-learning is one approach to reinforcement learning that incorporates q values for each state–action pair that indicate the reward to following a given state path.\n",
      "Decision trees\n",
      "Alexia: decision trees\n",
      "a decision tree is a supervised learning method for classification.\n",
      "K-means clustering\n",
      "Alexia: k-means clustering\n",
      "k-means clustering is a simple and popular clustering algorithm that originated in signal processing.\n",
      "Bye\n",
      "Alexia: Bye! take care of yourself..\n"
     ]
    }
   ],
   "source": [
    "#Alexia's interaction based on user inputs\n",
    "\n",
    "flag=True\n",
    "print(\"Alexia: My name is Alexia. I will answer your queries about Machine learning models. If you want to exit, type Bye!\")\n",
    "while(flag==True):\n",
    "    user_response = input()\n",
    "    user_response=user_response.lower()\n",
    "    if(user_response!='bye'):\n",
    "        if(user_response=='thanks' or user_response=='thank you' ):\n",
    "            flag=False\n",
    "            print(\"Alexia: You are welcome..\")\n",
    "        else:\n",
    "            if(greeting(user_response)!=None):\n",
    "                print(\"Alexia: \"+greeting(user_response))\n",
    "            else:\n",
    "                print(\"Alexia: \",end=\"\")\n",
    "                print(response(user_response))\n",
    "                sent_tokens.remove(user_response)\n",
    "    else:\n",
    "        flag=False\n",
    "        print(\"Alexia: Bye! take care of yourself..\")"
   ]
  },
  {
   "cell_type": "markdown",
   "metadata": {},
   "source": []
  }
 ],
 "metadata": {
  "kernelspec": {
   "display_name": "Python 3",
   "language": "python",
   "name": "python3"
  },
  "language_info": {
   "codemirror_mode": {
    "name": "ipython",
    "version": 3
   },
   "file_extension": ".py",
   "mimetype": "text/x-python",
   "name": "python",
   "nbconvert_exporter": "python",
   "pygments_lexer": "ipython3",
   "version": "3.7.4"
  }
 },
 "nbformat": 4,
 "nbformat_minor": 2
}
